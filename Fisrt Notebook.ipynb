{
 "cells": [
  {
   "cell_type": "code",
   "execution_count": 7,
   "id": "755be855-03cd-410c-b60a-e1e0e7e89afc",
   "metadata": {},
   "outputs": [
    {
     "name": "stdout",
     "output_type": "stream",
     "text": [
      "Hello world\n"
     ]
    }
   ],
   "source": [
    "print(\"Hello world\")"
   ]
  },
  {
   "cell_type": "code",
   "execution_count": 8,
   "id": "29b38d59-023f-444a-93c8-1de22292456d",
   "metadata": {},
   "outputs": [],
   "source": [
    "##Python Tutorial "
   ]
  },
  {
   "cell_type": "code",
   "execution_count": 9,
   "id": "ce27901e-57e3-4382-a7f6-52611b0b52d6",
   "metadata": {},
   "outputs": [],
   "source": [
    "##python is a general purpose object oriented programming language.\n",
    "#- its amazing\n",
    "#- its wonderful\n",
    "# Lets learn"
   ]
  },
  {
   "cell_type": "code",
   "execution_count": 10,
   "id": "f681eafa-c707-4918-be30-4b36141a6109",
   "metadata": {},
   "outputs": [
    {
     "data": {
      "text/plain": [
       "13"
      ]
     },
     "execution_count": 10,
     "metadata": {},
     "output_type": "execute_result"
    }
   ],
   "source": [
    "a = 5\n",
    "b = 8 \n",
    "a + b"
   ]
  },
  {
   "cell_type": "code",
   "execution_count": 11,
   "id": "1bc36072-be0f-4e99-8406-80400e938836",
   "metadata": {},
   "outputs": [
    {
     "name": "stdout",
     "output_type": "stream",
     "text": [
      "hello world\n"
     ]
    }
   ],
   "source": [
    "print(\"hello world\")"
   ]
  }
 ],
 "metadata": {
  "kernelspec": {
   "display_name": "Python 3 (ipykernel)",
   "language": "python",
   "name": "python3"
  },
  "language_info": {
   "codemirror_mode": {
    "name": "ipython",
    "version": 3
   },
   "file_extension": ".py",
   "mimetype": "text/x-python",
   "name": "python",
   "nbconvert_exporter": "python",
   "pygments_lexer": "ipython3",
   "version": "3.12.11"
  }
 },
 "nbformat": 4,
 "nbformat_minor": 5
}
